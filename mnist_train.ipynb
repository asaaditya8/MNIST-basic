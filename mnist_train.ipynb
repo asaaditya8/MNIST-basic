{
 "cells": [
  {
   "cell_type": "code",
   "execution_count": 1,
   "metadata": {},
   "outputs": [
    {
     "name": "stderr",
     "output_type": "stream",
     "text": [
      "Using TensorFlow backend.\n"
     ]
    }
   ],
   "source": [
    "%run mnist_yolo_data.ipynb\n",
    "%run mnist_yolo_model.ipynb"
   ]
  },
  {
   "cell_type": "code",
   "execution_count": 5,
   "metadata": {},
   "outputs": [],
   "source": [
    "from keras.callbacks import TensorBoard"
   ]
  },
  {
   "cell_type": "code",
   "execution_count": 2,
   "metadata": {},
   "outputs": [],
   "source": [
    "train, val, test = load_data()\n",
    "x_train, y_train = train\n",
    "x_val, y_val = val\n",
    "\n",
    "train_gen = DataGenerator(x_train, y_train)\n",
    "val_gen = DataGenerator(x_val, y_val)\n",
    "\n",
    "model = create_model()"
   ]
  },
  {
   "cell_type": "code",
   "execution_count": 4,
   "metadata": {},
   "outputs": [],
   "source": [
    "model.compile('Adam', 'binary_crossentropy', ['accuracy'])"
   ]
  },
  {
   "cell_type": "code",
   "execution_count": 7,
   "metadata": {},
   "outputs": [],
   "source": [
    "ckpt = ModelCheckpoint('mnist_basic_yolo.h5', monitor='val_loss', save_best_only=True)\n",
    "es = EarlyStopping(min_delta=1e-3)\n",
    "tb = TensorBoard()"
   ]
  },
  {
   "cell_type": "code",
   "execution_count": 14,
   "metadata": {},
   "outputs": [
    {
     "name": "stdout",
     "output_type": "stream",
     "text": [
      "Epoch 1/100\n",
      "100/100 [==============================] - 64s 637ms/step - loss: 0.1633 - acc: 0.7638 - val_loss: 0.2282 - val_acc: 0.7418\n",
      "Epoch 2/100\n",
      "100/100 [==============================] - 63s 629ms/step - loss: 0.1648 - acc: 0.7637 - val_loss: 0.1766 - val_acc: 0.7602\n",
      "Epoch 3/100\n",
      "100/100 [==============================] - 63s 630ms/step - loss: 0.1653 - acc: 0.7635 - val_loss: 0.1582 - val_acc: 0.7654\n",
      "Epoch 4/100\n",
      "100/100 [==============================] - 64s 637ms/step - loss: 0.1655 - acc: 0.7631 - val_loss: 0.1691 - val_acc: 0.7622\n"
     ]
    },
    {
     "data": {
      "text/plain": [
       "<keras.callbacks.History at 0x7f8bf6f2de80>"
      ]
     },
     "execution_count": 14,
     "metadata": {},
     "output_type": "execute_result"
    }
   ],
   "source": [
    "model.fit_generator(train_gen.flow(), steps_per_epoch=100, epochs=100, callbacks=[ckpt, es, tb], validation_data=val_gen.flow(), validation_steps=80)"
   ]
  },
  {
   "cell_type": "code",
   "execution_count": null,
   "metadata": {},
   "outputs": [],
   "source": []
  }
 ],
 "metadata": {
  "kernelspec": {
   "display_name": "Tf2",
   "language": "python",
   "name": "python3"
  },
  "language_info": {
   "codemirror_mode": {
    "name": "ipython",
    "version": 3
   },
   "file_extension": ".py",
   "mimetype": "text/x-python",
   "name": "python",
   "nbconvert_exporter": "python",
   "pygments_lexer": "ipython3",
   "version": "3.5.5"
  }
 },
 "nbformat": 4,
 "nbformat_minor": 2
}
