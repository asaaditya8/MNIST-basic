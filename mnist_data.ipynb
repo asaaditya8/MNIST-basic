{
 "cells": [
  {
   "cell_type": "code",
   "execution_count": 12,
   "metadata": {},
   "outputs": [],
   "source": [
    "import PIL\n",
    "from PIL import Image\n",
    "import matplotlib.pyplot as plt\n",
    "import numpy as np\n",
    "import gzip, pickle\n",
    "from sklearn.preprocessing import OneHotEncoder"
   ]
  },
  {
   "cell_type": "code",
   "execution_count": null,
   "metadata": {},
   "outputs": [],
   "source": [
    "%matplotlib inline"
   ]
  },
  {
   "cell_type": "code",
   "execution_count": 23,
   "metadata": {},
   "outputs": [],
   "source": [
    "def load_data():\n",
    "    with gzip.open('/home/aaditya/.keras/datasets/mnist.pkl.gz', 'rb') as f:\n",
    "        train_set, valid_set, test_set = pickle.load(f, encoding='latin1')\n",
    "    x_train, y_train = train_set\n",
    "    x_val, y_val = valid_set\n",
    "    x_test, y_test = test_set\n",
    "\n",
    "    x_train = np.array(x_train, dtype='float32').reshape(-1,28,28)\n",
    "    x_val = np.array(x_val, dtype='float32').reshape(-1,28,28)\n",
    "    x_test = np.array(x_test, dtype='float32').reshape(-1,28,28)\n",
    "\n",
    "    y_train = OneHotEncoder(dtype=np.float32, sparse=False).fit_transform(y_train.reshape(-1,1))\n",
    "    y_val = OneHotEncoder(dtype=np.float32, sparse=False).fit_transform(y_val.reshape(-1,1))\n",
    "    y_test = OneHotEncoder(dtype=np.float32, sparse=False).fit_transform(y_test.reshape(-1,1))\n",
    "    \n",
    "    return (x_train, y_train), (x_val, y_val), (x_test, y_test)"
   ]
  },
  {
   "cell_type": "markdown",
   "metadata": {},
   "source": [
    "# def convert(size, box):\n",
    "#     dw = 1./size[0]\n",
    "#     dh = 1./size[1]\n",
    "#     x = (box[0] + box[1])/2.0\n",
    "#     y = (box[2] + box[3])/2.0\n",
    "#     w = box[1] - box[0]\n",
    "#     h = box[3] - box[2]\n",
    "#     x = x*dw\n",
    "#     w = w*dw\n",
    "#     y = y*dh\n",
    "#     h = h*dh\n",
    "#     return (x,y,w,h)"
   ]
  },
  {
   "cell_type": "code",
   "execution_count": 33,
   "metadata": {},
   "outputs": [],
   "source": [
    "def create_img(data_array, label_array):\n",
    "    screen = (86,86)\n",
    "    img = Image.new('F', screen)\n",
    "    mnist_img = Image.fromarray(data_array*255)\n",
    "    # mnist_img = mnist_img.crop((2,2,26,26))\n",
    "\n",
    "    w = int(round(mnist_img.width * np.random.uniform(1.0, 3.0)))\n",
    "    mnist_img = mnist_img.resize((w,w), Image.BICUBIC)\n",
    "\n",
    "    x = np.random.randint(0, img.width-w)\n",
    "    y = np.random.randint(0, img.height-w)\n",
    "    img.paste(mnist_img, (x, y))\n",
    "    \n",
    "    dw = 1./screen[0]\n",
    "    x = x + w/2; y = y + w/2\n",
    "    x = x*dw; y = y*dw\n",
    "    return np.array(img, dtype='float32').clip(0,255).reshape(86,86,1) /255 , np.concatenate([label_array, np.array([x, y, w*dw], dtype='float32')])"
   ]
  },
  {
   "cell_type": "code",
   "execution_count": 31,
   "metadata": {},
   "outputs": [],
   "source": [
    "class DataGenerator():\n",
    "    def __init__(self, data_array, label_array, batch_size=32):\n",
    "        self.array = data_array\n",
    "        self.label_array = label_array\n",
    "        self.batch_size = batch_size\n",
    "        \n",
    "    def gen_batch(self):\n",
    "        img_batch = []; coord_batch = []\n",
    "        idx = [np.random.randint(0, len(self.array)-self.batch_size) for i in range(self.batch_size)]\n",
    "        for i in idx:\n",
    "            img, coord = create_img(self.array[i], self.label_array[i])\n",
    "            img_batch.append(img); coord_batch.append(coord)\n",
    "        return np.stack(img_batch), np.stack(coord_batch)\n",
    "    \n",
    "    def flow(self):\n",
    "        while True:\n",
    "            yield self.gen_batch()"
   ]
  },
  {
   "cell_type": "markdown",
   "metadata": {},
   "source": [
    "a = DataGenerator(x_train, y_train).gen_batch()"
   ]
  },
  {
   "cell_type": "markdown",
   "metadata": {},
   "source": [
    "a[0].shape"
   ]
  }
 ],
 "metadata": {
  "kernelspec": {
   "display_name": "Tf2",
   "language": "python",
   "name": "python3"
  },
  "language_info": {
   "codemirror_mode": {
    "name": "ipython",
    "version": 3
   },
   "file_extension": ".py",
   "mimetype": "text/x-python",
   "name": "python",
   "nbconvert_exporter": "python",
   "pygments_lexer": "ipython3",
   "version": "3.5.5"
  }
 },
 "nbformat": 4,
 "nbformat_minor": 2
}
