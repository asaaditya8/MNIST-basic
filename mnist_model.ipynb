{
 "cells": [
  {
   "cell_type": "code",
   "execution_count": 1,
   "metadata": {},
   "outputs": [
    {
     "name": "stderr",
     "output_type": "stream",
     "text": [
      "Using TensorFlow backend.\n"
     ]
    }
   ],
   "source": [
    "import keras\n",
    "from keras.layers import *\n",
    "from keras.models import Model\n",
    "from keras.models import model_from_json\n",
    "from keras.callbacks import EarlyStopping, ModelCheckpoint\n",
    "import keras.backend as K"
   ]
  },
  {
   "cell_type": "code",
   "execution_count": 2,
   "metadata": {},
   "outputs": [],
   "source": [
    "def limit_mem():\n",
    "    cfg = K.tf.ConfigProto()\n",
    "    cfg.gpu_options.allow_growth = True\n",
    "    K.set_session(K.tf.Session(config=cfg))\n",
    "\n",
    "limit_mem()"
   ]
  },
  {
   "cell_type": "code",
   "execution_count": 3,
   "metadata": {},
   "outputs": [],
   "source": [
    "def conv(ip, f, k=1, s=1, pad='same', d=1, use_bias=False):\n",
    "    x = SeparableConv2D(f, k, strides=s, padding=pad, depth_multiplier=d, use_bias=use_bias)(ip)\n",
    "    x = BatchNormalization()(x)\n",
    "    x = ELU()(x)\n",
    "    return x"
   ]
  },
  {
   "cell_type": "code",
   "execution_count": 4,
   "metadata": {},
   "outputs": [],
   "source": [
    "def rconv(ip, f, k=1, s=1, pad='same', use_bias=False):\n",
    "    x = Conv2D(f, k, strides=s, padding=pad, use_bias=use_bias)(ip)\n",
    "    x = BatchNormalization()(x)\n",
    "    x = ELU()(x)\n",
    "    return x"
   ]
  },
  {
   "cell_type": "code",
   "execution_count": 5,
   "metadata": {},
   "outputs": [],
   "source": [
    "ip_shp = (86,86, 1)\n",
    "\n",
    "LABELS = list(range(10))\n",
    "\n",
    "IMAGE_H, IMAGE_W = 86, 86\n",
    "GRID_H,  GRID_W  = 3 , 3\n",
    "BOX              = 1\n",
    "CLASS            = len(LABELS)\n",
    "CLASS_WEIGHTS    = np.ones(CLASS, dtype='float32')\n",
    "OBJ_THRESHOLD    = 0.3#0.5\n",
    "NMS_THRESHOLD    = 0.3#0.45\n",
    "# ANCHORS          = [0.57273, 0.677385, 1.87446, 2.06253, 3.33843, 5.47434, 7.88282, 3.52778, 9.77052, 9.16828]\n",
    "\n",
    "NO_OBJECT_SCALE  = 1.0\n",
    "OBJECT_SCALE     = 5.0\n",
    "COORD_SCALE      = 1.0\n",
    "CLASS_SCALE      = 1.0\n",
    "\n",
    "BATCH_SIZE       = 16\n",
    "WARM_UP_BATCHES  = 0\n",
    "TRUE_BOX_BUFFER  = 50"
   ]
  },
  {
   "cell_type": "code",
   "execution_count": 6,
   "metadata": {},
   "outputs": [],
   "source": [
    "def create_model():\n",
    "    ip = Input(ip_shp)\n",
    "\n",
    "    x = rconv(ip, 16, k=3)\n",
    "    x = rconv(x, 16, k=3)\n",
    "    x = rconv(x, 16, k=3)\n",
    "    x = rconv(x, 16, k=3, s=2, pad='valid')\n",
    "\n",
    "    x = conv(x, 64, k=3)\n",
    "    x = conv(x, 64, k=3)\n",
    "    x = conv(x, 64, k=3)\n",
    "    x = conv(x, 64, k=3, s=2, pad='valid')\n",
    "\n",
    "    x = conv(x, 128, k=3)\n",
    "    x = conv(x, 128, k=3)\n",
    "    x = conv(x, 128, k=3)\n",
    "    x = conv(x, 128, k=3, s=2, pad='valid')\n",
    "\n",
    "    x = conv(x, 256, k=3)\n",
    "    x = conv(x, 256, k=3)\n",
    "    x = conv(x, 256, k=3)\n",
    "    x = conv(x, 256, k=3, s=2, pad='valid')\n",
    "\n",
    "    x = conv(x, 256, k=3)\n",
    "    x = conv(x, 256, k=3)\n",
    "    x = conv(x, 256, k=3)\n",
    "    x = conv(x, 13, k=3)\n",
    "    x = Conv2D(13, 3, strides=1, padding='valid', use_bias=True)(x)\n",
    "    x = GlobalAveragePooling2D()(x)\n",
    "    x = Activation('sigmoid')(x)\n",
    "\n",
    "    return Model(ip, x)"
   ]
  },
  {
   "cell_type": "markdown",
   "metadata": {},
   "source": [
    "model.summary()"
   ]
  },
  {
   "cell_type": "code",
   "execution_count": null,
   "metadata": {},
   "outputs": [],
   "source": []
  }
 ],
 "metadata": {
  "kernelspec": {
   "display_name": "Tf2",
   "language": "python",
   "name": "python3"
  },
  "language_info": {
   "codemirror_mode": {
    "name": "ipython",
    "version": 3
   },
   "file_extension": ".py",
   "mimetype": "text/x-python",
   "name": "python",
   "nbconvert_exporter": "python",
   "pygments_lexer": "ipython3",
   "version": "3.5.5"
  }
 },
 "nbformat": 4,
 "nbformat_minor": 2
}
